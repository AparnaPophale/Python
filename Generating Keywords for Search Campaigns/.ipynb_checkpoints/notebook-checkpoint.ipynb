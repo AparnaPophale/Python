{
 "cells": [
  {
   "cell_type": "markdown",
   "id": "d3c7962e-43b7-458f-a36d-4eac0ad6cf3f",
   "metadata": {},
   "source": [
    "![A laptop screen with a person typing the word 'seo'](work_laptop.png)\n"
   ]
  },
  {
   "cell_type": "markdown",
   "id": "f5958533-c625-43cf-966d-589884e29d7e",
   "metadata": {},
   "source": [
    "Imagine working for a digital marketing agency, and the agency is approached by a massive online furniture retailer. They want to test your skills at creating large campaigns for all of their website. You are tasked with creating a prototype set of keywords for search campaigns for their sofas section. The client says that they want you to generate keywords for the following products:\n",
    "\n",
    "- sofas\n",
    "- convertible sofas\n",
    "- love seats\n",
    "- recliners\n",
    "- sofa beds\n",
    "\n",
    "The client is a low-cost retailer, offering many promotions and discounts. You will need to focus on such keywords. You will also need to move away from luxury keywords and topics, as you are targeting price-sensitive customers. Because they are going to be tight on budget, it would be good to focus on a tightly targeted set of keywords and make sure they are all set to exact and phrase match.\n",
    "\n",
    "Based on the brief above you will first need to generate a list of words, that together with the products given above would make for good keywords. Here are some examples:\n",
    "\n",
    "- Products: sofas, recliners\n",
    "- Words: buy, prices\n",
    "\n",
    "The resulting keywords: 'buy sofas', 'sofas buy', 'buy recliners', 'recliners buy', 'prices sofas', 'sofas prices', 'prices recliners', 'recliners prices'.\n",
    "\n",
    "As a final result, you want to have a DataFrame that looks like this:\n",
    "\n",
    "<table>\n",
    "<thead>\n",
    "<tr>\n",
    "<th>Campaign</th>\n",
    "<th>Ad Group</th>\n",
    "<th>Keyword</th>\n",
    "<th>Criterion Type</th>\n",
    "</tr>\n",
    "</thead>\n",
    "<tbody>\n",
    "<tr>\n",
    "<td>Campaign1</td>\n",
    "<td>AdGroup_1</td>\n",
    "<td>keyword 1a</td>\n",
    "<td>Exact</td>\n",
    "</tr>\n",
    "<tr>\n",
    "<td>Campaign1</td>\n",
    "<td>AdGroup_1</td>\n",
    "<td>keyword 1b</td>\n",
    "<td>Exact</td>\n",
    "</tr>\n",
    "<tr>\n",
    "<td>Campaign1</td>\n",
    "<td>AdGroup_2</td>\n",
    "<td>keyword 2a</td>\n",
    "<td>Exact</td>\n",
    "</tr>\n",
    "</tbody>\n",
    "</table>\n"
   ]
  },
  {
   "cell_type": "code",
   "execution_count": 14,
   "id": "2c9becd8-f51c-4a11-9c10-351d1c058e3a",
   "metadata": {
    "executionCancelledAt": null,
    "executionTime": 10,
    "lastExecutedAt": 1720124546233,
    "lastExecutedByKernel": "84809ea2-8f25-4548-b8c6-0b1333dac415",
    "lastScheduledRunId": null,
    "lastSuccessfullyExecutedCode": "import pandas as pd",
    "outputsMetadata": {
     "0": {
      "height": 37,
      "type": "stream"
     }
    }
   },
   "outputs": [],
   "source": [
    "import pandas as pd"
   ]
  },
  {
   "cell_type": "code",
   "execution_count": 15,
   "id": "99fd32ed-d7d9-42f6-9100-88723104da92",
   "metadata": {
    "executionCancelledAt": null,
    "executionTime": 53,
    "lastExecutedAt": 1720124546286,
    "lastExecutedByKernel": "84809ea2-8f25-4548-b8c6-0b1333dac415",
    "lastScheduledRunId": null,
    "lastSuccessfullyExecutedCode": "# List of words to pair with products\nwords = ['buy', 'price', 'discount', 'promotion', 'promo', 'shop']\nprint(words)"
   },
   "outputs": [
    {
     "name": "stdout",
     "output_type": "stream",
     "text": [
      "['buy', 'price', 'discount', 'promotion', 'promo', 'shop']\n"
     ]
    }
   ],
   "source": [
    "# List of words to pair with products\n",
    "words = ['buy', 'price', 'discount', 'promotion', 'promo', 'shop']\n",
    "print(words)"
   ]
  },
  {
   "cell_type": "code",
   "execution_count": 16,
   "id": "cd2437cb-233a-4b99-8686-59ade74b9e5e",
   "metadata": {
    "executionCancelledAt": null,
    "executionTime": 48,
    "lastExecutedAt": 1720124546334,
    "lastExecutedByKernel": "84809ea2-8f25-4548-b8c6-0b1333dac415",
    "lastScheduledRunId": null,
    "lastSuccessfullyExecutedCode": "products = ['sofas', 'convertible sofas', 'love seats', 'recliners', 'sofa beds']\nprint(products)",
    "outputsMetadata": {
     "0": {
      "height": 38,
      "type": "stream"
     }
    }
   },
   "outputs": [
    {
     "name": "stdout",
     "output_type": "stream",
     "text": [
      "['sofas', 'convertible sofas', 'love seats', 'recliners', 'sofa beds']\n"
     ]
    }
   ],
   "source": [
    "products = ['sofas', 'convertible sofas', 'love seats', 'recliners', 'sofa beds']\n",
    "print(products)"
   ]
  },
  {
   "cell_type": "code",
   "execution_count": 17,
   "id": "2b420570-9636-4529-a6c3-b8ac6544c294",
   "metadata": {
    "executionCancelledAt": null,
    "executionTime": 51,
    "lastExecutedAt": 1720124546385,
    "lastExecutedByKernel": "84809ea2-8f25-4548-b8c6-0b1333dac415",
    "lastScheduledRunId": null,
    "lastSuccessfullyExecutedCode": "# Create an empty list\nkeywords_list = []\n"
   },
   "outputs": [],
   "source": [
    "# Create an empty list\n",
    "keywords_list = []\n"
   ]
  },
  {
   "cell_type": "code",
   "execution_count": 18,
   "id": "d4c51bb7-3835-4b32-84da-5b9e3922e191",
   "metadata": {
    "executionCancelledAt": null,
    "executionTime": 51,
    "lastExecutedAt": 1720124546438,
    "lastExecutedByKernel": "84809ea2-8f25-4548-b8c6-0b1333dac415",
    "lastScheduledRunId": null,
    "lastSuccessfullyExecutedCode": "# Loop through products\nfor product in products:\n    # Loop through words\n    for word in words:\n        # Append combinations\n        keywords_list.append([product, product + ' ' + word])\n        keywords_list.append([product, word + ' ' + product])\n        "
   },
   "outputs": [],
   "source": [
    "# Loop through products\n",
    "for product in products:\n",
    "    # Loop through words\n",
    "    for word in words:\n",
    "        # Append combinations\n",
    "        keywords_list.append([product, product + ' ' + word])\n",
    "        keywords_list.append([product, word + ' ' + product])\n",
    "        "
   ]
  },
  {
   "cell_type": "code",
   "execution_count": 19,
   "id": "535af79a-0547-4b70-8d0f-f372977dcfc6",
   "metadata": {
    "executionCancelledAt": null,
    "executionTime": 47,
    "lastExecutedAt": 1720124546486,
    "lastExecutedByKernel": "84809ea2-8f25-4548-b8c6-0b1333dac415",
    "lastScheduledRunId": null,
    "lastSuccessfullyExecutedCode": "#Inspect keyword list\nprint(keywords_list)",
    "outputsMetadata": {
     "0": {
      "height": 437,
      "type": "stream"
     }
    }
   },
   "outputs": [
    {
     "name": "stdout",
     "output_type": "stream",
     "text": [
      "[['sofas', 'sofas buy'], ['sofas', 'buy sofas'], ['sofas', 'sofas price'], ['sofas', 'price sofas'], ['sofas', 'sofas discount'], ['sofas', 'discount sofas'], ['sofas', 'sofas promotion'], ['sofas', 'promotion sofas'], ['sofas', 'sofas promo'], ['sofas', 'promo sofas'], ['sofas', 'sofas shop'], ['sofas', 'shop sofas'], ['convertible sofas', 'convertible sofas buy'], ['convertible sofas', 'buy convertible sofas'], ['convertible sofas', 'convertible sofas price'], ['convertible sofas', 'price convertible sofas'], ['convertible sofas', 'convertible sofas discount'], ['convertible sofas', 'discount convertible sofas'], ['convertible sofas', 'convertible sofas promotion'], ['convertible sofas', 'promotion convertible sofas'], ['convertible sofas', 'convertible sofas promo'], ['convertible sofas', 'promo convertible sofas'], ['convertible sofas', 'convertible sofas shop'], ['convertible sofas', 'shop convertible sofas'], ['love seats', 'love seats buy'], ['love seats', 'buy love seats'], ['love seats', 'love seats price'], ['love seats', 'price love seats'], ['love seats', 'love seats discount'], ['love seats', 'discount love seats'], ['love seats', 'love seats promotion'], ['love seats', 'promotion love seats'], ['love seats', 'love seats promo'], ['love seats', 'promo love seats'], ['love seats', 'love seats shop'], ['love seats', 'shop love seats'], ['recliners', 'recliners buy'], ['recliners', 'buy recliners'], ['recliners', 'recliners price'], ['recliners', 'price recliners'], ['recliners', 'recliners discount'], ['recliners', 'discount recliners'], ['recliners', 'recliners promotion'], ['recliners', 'promotion recliners'], ['recliners', 'recliners promo'], ['recliners', 'promo recliners'], ['recliners', 'recliners shop'], ['recliners', 'shop recliners'], ['sofa beds', 'sofa beds buy'], ['sofa beds', 'buy sofa beds'], ['sofa beds', 'sofa beds price'], ['sofa beds', 'price sofa beds'], ['sofa beds', 'sofa beds discount'], ['sofa beds', 'discount sofa beds'], ['sofa beds', 'sofa beds promotion'], ['sofa beds', 'promotion sofa beds'], ['sofa beds', 'sofa beds promo'], ['sofa beds', 'promo sofa beds'], ['sofa beds', 'sofa beds shop'], ['sofa beds', 'shop sofa beds']]\n"
     ]
    }
   ],
   "source": [
    "#Inspect keyword list\n",
    "print(keywords_list)"
   ]
  },
  {
   "cell_type": "code",
   "execution_count": 20,
   "id": "9b88925b-fb26-4b9f-a6a2-5d51bb086f47",
   "metadata": {
    "executionCancelledAt": null,
    "executionTime": 48,
    "lastExecutedAt": 1720124546534,
    "lastExecutedByKernel": "84809ea2-8f25-4548-b8c6-0b1333dac415",
    "lastScheduledRunId": null,
    "lastSuccessfullyExecutedCode": "\n# Create a DataFrame from list\nkeywords_df = pd.DataFrame(keywords_list, columns=['Ad Group', 'Keyword'])"
   },
   "outputs": [],
   "source": [
    "\n",
    "# Create a DataFrame from list\n",
    "keywords_df = pd.DataFrame(keywords_list, columns=['Ad Group', 'Keyword'])"
   ]
  },
  {
   "cell_type": "code",
   "execution_count": 21,
   "id": "3b9f0aac-bfbb-494d-8a4c-e6dbdf413809",
   "metadata": {
    "executionCancelledAt": null,
    "executionTime": 52,
    "lastExecutedAt": 1720124546586,
    "lastExecutedByKernel": "84809ea2-8f25-4548-b8c6-0b1333dac415",
    "lastScheduledRunId": null,
    "lastSuccessfullyExecutedCode": "# Print the keywords DataFrame to explore it\nprint(keywords_df)\n"
   },
   "outputs": [
    {
     "name": "stdout",
     "output_type": "stream",
     "text": [
      "             Ad Group                      Keyword\n",
      "0               sofas                    sofas buy\n",
      "1               sofas                    buy sofas\n",
      "2               sofas                  sofas price\n",
      "3               sofas                  price sofas\n",
      "4               sofas               sofas discount\n",
      "5               sofas               discount sofas\n",
      "6               sofas              sofas promotion\n",
      "7               sofas              promotion sofas\n",
      "8               sofas                  sofas promo\n",
      "9               sofas                  promo sofas\n",
      "10              sofas                   sofas shop\n",
      "11              sofas                   shop sofas\n",
      "12  convertible sofas        convertible sofas buy\n",
      "13  convertible sofas        buy convertible sofas\n",
      "14  convertible sofas      convertible sofas price\n",
      "15  convertible sofas      price convertible sofas\n",
      "16  convertible sofas   convertible sofas discount\n",
      "17  convertible sofas   discount convertible sofas\n",
      "18  convertible sofas  convertible sofas promotion\n",
      "19  convertible sofas  promotion convertible sofas\n",
      "20  convertible sofas      convertible sofas promo\n",
      "21  convertible sofas      promo convertible sofas\n",
      "22  convertible sofas       convertible sofas shop\n",
      "23  convertible sofas       shop convertible sofas\n",
      "24         love seats               love seats buy\n",
      "25         love seats               buy love seats\n",
      "26         love seats             love seats price\n",
      "27         love seats             price love seats\n",
      "28         love seats          love seats discount\n",
      "29         love seats          discount love seats\n",
      "30         love seats         love seats promotion\n",
      "31         love seats         promotion love seats\n",
      "32         love seats             love seats promo\n",
      "33         love seats             promo love seats\n",
      "34         love seats              love seats shop\n",
      "35         love seats              shop love seats\n",
      "36          recliners                recliners buy\n",
      "37          recliners                buy recliners\n",
      "38          recliners              recliners price\n",
      "39          recliners              price recliners\n",
      "40          recliners           recliners discount\n",
      "41          recliners           discount recliners\n",
      "42          recliners          recliners promotion\n",
      "43          recliners          promotion recliners\n",
      "44          recliners              recliners promo\n",
      "45          recliners              promo recliners\n",
      "46          recliners               recliners shop\n",
      "47          recliners               shop recliners\n",
      "48          sofa beds                sofa beds buy\n",
      "49          sofa beds                buy sofa beds\n",
      "50          sofa beds              sofa beds price\n",
      "51          sofa beds              price sofa beds\n",
      "52          sofa beds           sofa beds discount\n",
      "53          sofa beds           discount sofa beds\n",
      "54          sofa beds          sofa beds promotion\n",
      "55          sofa beds          promotion sofa beds\n",
      "56          sofa beds              sofa beds promo\n",
      "57          sofa beds              promo sofa beds\n",
      "58          sofa beds               sofa beds shop\n",
      "59          sofa beds               shop sofa beds\n"
     ]
    }
   ],
   "source": [
    "# Print the keywords DataFrame to explore it\n",
    "print(keywords_df)\n"
   ]
  },
  {
   "cell_type": "code",
   "execution_count": 22,
   "id": "1e40f39a-37b9-4337-8411-6313c47cbca8",
   "metadata": {
    "executionCancelledAt": null,
    "executionTime": 52,
    "lastExecutedAt": 1720124546638,
    "lastExecutedByKernel": "84809ea2-8f25-4548-b8c6-0b1333dac415",
    "lastScheduledRunId": null,
    "lastSuccessfullyExecutedCode": "# Add a campaign column\nkeywords_df['Campaign'] = 'SEM_Sofas'"
   },
   "outputs": [],
   "source": [
    "# Add a campaign column\n",
    "keywords_df['Campaign'] = 'SEM_Sofas'"
   ]
  },
  {
   "cell_type": "code",
   "execution_count": 23,
   "id": "e925e7bf-b972-439f-9b36-22e0b1341a71",
   "metadata": {
    "executionCancelledAt": null,
    "executionTime": 53,
    "lastExecutedAt": 1720124546693,
    "lastExecutedByKernel": "84809ea2-8f25-4548-b8c6-0b1333dac415",
    "lastScheduledRunId": null,
    "lastSuccessfullyExecutedCode": "# Add a criterion type column\nkeywords_df['Criterion Type'] = 'Exact'"
   },
   "outputs": [],
   "source": [
    "# Add a criterion type column\n",
    "keywords_df['Criterion Type'] = 'Exact'"
   ]
  },
  {
   "cell_type": "code",
   "execution_count": 24,
   "id": "dc976140-bbf9-4e61-af7d-32c175ea8ef5",
   "metadata": {
    "executionCancelledAt": null,
    "executionTime": 46,
    "lastExecutedAt": 1720124546741,
    "lastExecutedByKernel": "84809ea2-8f25-4548-b8c6-0b1333dac415",
    "lastScheduledRunId": null,
    "lastSuccessfullyExecutedCode": "# Save the final keywords to a CSV file\nkeywords_df.to_csv('keywords.csv', index=False)"
   },
   "outputs": [],
   "source": [
    "# Save the final keywords to a CSV file\n",
    "keywords_df.to_csv('keywords.csv', index=False)"
   ]
  }
 ],
 "metadata": {
  "colab": {
   "name": "Welcome to DataCamp Workspaces.ipynb",
   "provenance": []
  },
  "kernelspec": {
   "display_name": "Python 3 (ipykernel)",
   "language": "python",
   "name": "python3"
  },
  "language_info": {
   "codemirror_mode": {
    "name": "ipython",
    "version": 3
   },
   "file_extension": ".py",
   "mimetype": "text/x-python",
   "name": "python",
   "nbconvert_exporter": "python",
   "pygments_lexer": "ipython3",
   "version": "3.11.3"
  }
 },
 "nbformat": 4,
 "nbformat_minor": 5
}
